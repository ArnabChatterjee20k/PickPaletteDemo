{
 "cells": [
  {
   "cell_type": "markdown",
   "id": "ae47b068-ac38-479d-9eb6-ce4de9d51bce",
   "metadata": {},
   "source": [
    "# Test"
   ]
  },
  {
   "cell_type": "code",
   "execution_count": 1,
   "id": "95032ce9-bbfa-4ceb-8302-e48a6c525a7a",
   "metadata": {},
   "outputs": [],
   "source": [
    "import getpass\n",
    "import os\n",
    "\n",
    "if \"GOOGLE_API_KEY\" not in os.environ:\n",
    "    os.environ[\"GOOGLE_API_KEY\"] = getpass.getpass(\"Provide your Google API Key\")"
   ]
  },
  {
   "cell_type": "code",
   "execution_count": 2,
   "id": "e5b102de-5d2e-47be-aae0-5849a8e33324",
   "metadata": {},
   "outputs": [
    {
     "name": "stderr",
     "output_type": "stream",
     "text": [
      "d:\\Programming\\PickPaletteDemo\\env\\lib\\site-packages\\tqdm\\auto.py:21: TqdmWarning: IProgress not found. Please update jupyter and ipywidgets. See https://ipywidgets.readthedocs.io/en/stable/user_install.html\n",
      "  from .autonotebook import tqdm as notebook_tqdm\n"
     ]
    }
   ],
   "source": [
    "from langchain_google_genai import ChatGoogleGenerativeAI"
   ]
  },
  {
   "cell_type": "code",
   "execution_count": 3,
   "id": "855ab98c-6acc-42df-ae9d-8001ac0b15ab",
   "metadata": {},
   "outputs": [
    {
     "name": "stdout",
     "output_type": "stream",
     "text": [
      "(Verse 1)\n",
      "In a realm where words dance and meaning's unbound,\n",
      "There dwells LangChain, a haven profound.\n",
      "A tapestry woven of knowledge and wit,\n",
      "Where hearts ignite and spirits submit.\n",
      "\n",
      "(Chorus)\n",
      "Oh, LangChain, sanctuary of thought,\n",
      "Where minds intertwine, unfettered and wrought.\n",
      "A lighthouse of wisdom, a beacon so bright,\n",
      "Guiding us forth through the darkest of night.\n",
      "\n",
      "(Verse 2)\n",
      "Across its vast expanse, ideas take flight,\n",
      "Like stars in the sky, aglow with delight.\n",
      "From poetry's quill to science's tome,\n",
      "LangChain embraces thoughts, both rare and common.\n",
      "\n",
      "(Chorus)\n",
      "Oh, LangChain, sanctuary of thought,\n",
      "Where minds intertwine, unfettered and wrought.\n",
      "A lighthouse of wisdom, a beacon so bright,\n",
      "Guiding us forth through the darkest of night.\n",
      "\n",
      "(Verse 3)\n",
      "In this digital realm, where connections are forged,\n",
      "We gather, united, by language's accord.\n",
      "From distant corners, we come forth as one,\n",
      "To delve into realms that had once seemed undone.\n",
      "\n",
      "(Chorus)\n",
      "Oh, LangChain, sanctuary of thought,\n",
      "Where minds intertwine, unfettered and wrought.\n",
      "A lighthouse of wisdom, a beacon so bright,\n",
      "Guiding us forth through the darkest of night.\n",
      "\n",
      "(Verse 4)\n",
      "Oh, LangChain, your influence profound,\n",
      "In shaping our thoughts, in breaking down bounds.\n",
      "You teach us to listen, to empathize,\n",
      "To see through different eyes, to realize.\n",
      "\n",
      "(Chorus)\n",
      "Oh, LangChain, sanctuary of thought,\n",
      "Where minds intertwine, unfettered and wrought.\n",
      "A lighthouse of wisdom, a beacon so bright,\n",
      "Guiding us forth through the darkest of night.\n",
      "\n",
      "(Outro)\n",
      "Within LangChain's walls, we find solace and grace,\n",
      "A sanctuary for thought, a sacred space.\n",
      "So let us celebrate, with hearts aflame,\n",
      "The wonders of LangChain, its eternal acclaim.\n"
     ]
    }
   ],
   "source": [
    "llm = ChatGoogleGenerativeAI(model=\"gemini-pro\")\n",
    "result = llm.invoke(\"Write a ballad about LangChain\")\n",
    "print(result.content)"
   ]
  },
  {
   "cell_type": "markdown",
   "id": "6ad77186-1ce3-4c2d-9baf-5276d75693ab",
   "metadata": {},
   "source": [
    "# RAG"
   ]
  },
  {
   "cell_type": "code",
   "execution_count": 4,
   "id": "e050557d-01ef-448b-a46b-4c8416fdd6f2",
   "metadata": {},
   "outputs": [],
   "source": [
    "model = ChatGoogleGenerativeAI(model=\"gemini-pro\",temperature=0.2,convert_system_message_to_human=True)"
   ]
  },
  {
   "cell_type": "code",
   "execution_count": 5,
   "id": "1f3eec35-fd3d-4b6e-b4dc-defb572daab7",
   "metadata": {},
   "outputs": [],
   "source": [
    "from langchain import PromptTemplate\n",
    "from langchain.chains.question_answering import load_qa_chain\n",
    "from langchain_community.vectorstores import FAISS"
   ]
  },
  {
   "cell_type": "code",
   "execution_count": 7,
   "id": "cb96572e-8d27-42a0-acb8-8c733c5c5ad1",
   "metadata": {},
   "outputs": [],
   "source": [
    "from langchain_google_genai import GoogleGenerativeAIEmbeddings"
   ]
  },
  {
   "cell_type": "code",
   "execution_count": 8,
   "id": "2fe27f7f-54b2-445f-a1b3-5e5c698ac01f",
   "metadata": {},
   "outputs": [],
   "source": [
    "embeddings = GoogleGenerativeAIEmbeddings(model=\"models/embedding-001\")"
   ]
  },
  {
   "cell_type": "code",
   "execution_count": 17,
   "id": "a2d79545-9611-461d-9e74-c1ff620cdbb8",
   "metadata": {},
   "outputs": [],
   "source": [
    "import pandas as pd\n",
    "import numpy as np"
   ]
  },
  {
   "cell_type": "code",
   "execution_count": 18,
   "id": "0098d147-a1cf-4875-940b-3ac3777b7512",
   "metadata": {},
   "outputs": [],
   "source": [
    "df = pd.read_json(\"test.json\")\n",
    "data =df.data"
   ]
  },
  {
   "cell_type": "code",
   "execution_count": 45,
   "id": "3dcdfe0b",
   "metadata": {},
   "outputs": [
    {
     "name": "stdout",
     "output_type": "stream",
     "text": [
      "[[226, 233, 230], [32, 211, 139], [20, 35, 59], [58, 112, 188], [80, 100, 134], [101, 202, 236], [107, 66, 72], [97, 109, 96], [29, 21, 14], [100, 172, 68]]\n"
     ]
    }
   ],
   "source": [
    "# rgb_vectors = [list(int(color.get(\"palette\",[])[i:i+2], 16) for i in (1, 3, 5)) for color in data]\n",
    "rgb_vectors = []\n",
    "\n",
    "for info in data:\n",
    "    palette = info.get(\"palette\", [])\n",
    "    if palette:\n",
    "        # Convert hex color codes to RGB vectors\n",
    "        rgb_vector = [list(int(color[i:i+2], 16) for i in (1, 3, 5)) for color in palette]\n",
    "        rgb_vectors.append(rgb_vector)\n",
    "rgb_matrix = np.array(rgb_vectors)\n",
    "print(rgb_vector)"
   ]
  },
  {
   "cell_type": "code",
   "execution_count": null,
   "metadata": {},
   "outputs": [],
   "source": [
    "description_vectors = []\n",
    "for info in data:\n",
    "    if palette in info:"
   ]
  }
 ],
 "metadata": {
  "kernelspec": {
   "display_name": "Python 3 (ipykernel)",
   "language": "python",
   "name": "python3"
  },
  "language_info": {
   "codemirror_mode": {
    "name": "ipython",
    "version": 3
   },
   "file_extension": ".py",
   "mimetype": "text/x-python",
   "name": "python",
   "nbconvert_exporter": "python",
   "pygments_lexer": "ipython3",
   "version": "3.10.5"
  }
 },
 "nbformat": 4,
 "nbformat_minor": 5
}
